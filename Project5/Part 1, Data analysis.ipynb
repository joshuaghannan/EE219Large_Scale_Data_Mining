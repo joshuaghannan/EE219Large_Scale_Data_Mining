{
 "cells": [
  {
   "cell_type": "code",
   "execution_count": 1,
   "metadata": {},
   "outputs": [],
   "source": [
    "import numpy as np\n",
    "import pandas as pd\n",
    "import os\n",
    "import matplotlib.pyplot as plt\n",
    "import sys\n",
    "import json\n",
    "from datetime import datetime\n",
    "from tqdm import tqdm\n",
    "from pprint import pprint\n",
    "%matplotlib inline\n",
    "\n",
    "# Ignore warnings\n",
    "import warnings\n",
    "warnings.filterwarnings(\"ignore\")\n",
    "\n",
    "# training and Testing directories\n",
    "training_dir = os.path.join(\"Datasets\", \"Training\")\n",
    "testing_dir = os.path.join(\"Datasets\", \"Testing\")\n",
    "if not os.path.isdir(training_dir):\n",
    "    raise Exception(\"ERROR: training dataset not found\")\n",
    "if not os.path.isdir(testing_dir):\n",
    "    raise Exception(\"ERROR: testing dataset not found\")"
   ]
  },
  {
   "cell_type": "markdown",
   "metadata": {},
   "source": [
    "## Part 1: Analyzing the data"
   ]
  },
  {
   "cell_type": "markdown",
   "metadata": {},
   "source": [
    "Size/RAM experiments: loading all training as lists requires approximately 10.3 GB of RAM. It is suggested to only extract the features you need each time"
   ]
  },
  {
   "cell_type": "code",
   "execution_count": 2,
   "metadata": {},
   "outputs": [
    {
     "name": "stdout",
     "output_type": "stream",
     "text": [
      "Datasets\\Training\\tweets_#gohawks.txt\n",
      "Datasets\\Training\\tweets_#gopatriots.txt\n",
      "Datasets\\Training\\tweets_#nfl.txt\n",
      "Datasets\\Training\\tweets_#patriots.txt\n",
      "Datasets\\Training\\tweets_#sb49.txt\n",
      "Datasets\\Training\\tweets_#superbowl.txt\n"
     ]
    }
   ],
   "source": [
    "# iterate over all hashtag files \n",
    "for root, dirs, files in os.walk(training_dir, topdown=False):\n",
    "    for file in files:\n",
    "        print(os.path.join(root, file))"
   ]
  },
  {
   "cell_type": "markdown",
   "metadata": {},
   "source": [
    "##### Question 1 and 2: Get statistics"
   ]
  },
  {
   "cell_type": "code",
   "execution_count": 22,
   "metadata": {},
   "outputs": [
    {
     "name": "stdout",
     "output_type": "stream",
     "text": [
      "Parsing gohawks...\n",
      "\t----------\n",
      "\tnumber of tweets in hashtag: 169122\n",
      "\tnumber of hours in hashtag: 578.2188888888888\n",
      "\taverage tweets per hour: 292.48785062173687\n",
      "\t----------\n",
      "\taverage followers per tweeter: 1586.931285839246\n",
      "\t----------\n",
      "\taverage retweets per tweet: 2.0132093991319877\n",
      "\t----------\n",
      "\n",
      "Parsing gopatriots...\n",
      "\t----------\n",
      "\tnumber of tweets in hashtag: 23511\n",
      "\tnumber of hours in hashtag: 574.0733333333334\n",
      "\taverage tweets per hour: 40.95469800606194\n",
      "\t----------\n",
      "\taverage followers per tweeter: 1305.8648025717232\n",
      "\t----------\n",
      "\taverage retweets per tweet: 1.4081919101697078\n",
      "\t----------\n",
      "\n",
      "Parsing nfl...\n",
      "\t----------\n",
      "\tnumber of tweets in hashtag: 233022\n",
      "\tnumber of hours in hashtag: 586.9255555555555\n",
      "\taverage tweets per hour: 397.0213901819841\n",
      "\t----------\n",
      "\taverage followers per tweeter: 4355.590525997321\n",
      "\t----------\n",
      "\taverage retweets per tweet: 1.5344602655543254\n",
      "\t----------\n",
      "\n",
      "1421222404\n",
      "2015-01-14 00:00:04\n"
     ]
    },
    {
     "data": {
      "image/png": "[encoded data removed]",
      "text/plain": [
       "<Figure size 432x288 with 1 Axes>"
      ]
     },
     "metadata": {
      "needs_background": "light"
     },
     "output_type": "display_data"
    },
    {
     "name": "stdout",
     "output_type": "stream",
     "text": [
      "Parsing patriots...\n",
      "\t----------\n",
      "\tnumber of tweets in hashtag: 440621\n",
      "\tnumber of hours in hashtag: 586.795\n",
      "\taverage tweets per hour: 750.89426460689\n",
      "\t----------\n",
      "\taverage followers per tweeter: 1697.2760565460703\n",
      "\t----------\n",
      "\taverage retweets per tweet: 1.7852871288476946\n",
      "\t----------\n",
      "\n",
      "Parsing sb49...\n",
      "\t----------\n",
      "\tnumber of tweets in hashtag: 743649\n",
      "\tnumber of hours in hashtag: 582.4058333333334\n",
      "\taverage tweets per hour: 1276.8570598680474\n",
      "\t----------\n",
      "\taverage followers per tweeter: 2342.8901806215313\n",
      "\t----------\n",
      "\taverage retweets per tweet: 2.52713444111402\n",
      "\t----------\n",
      "\n",
      "Parsing superbowl...\n",
      "\t----------\n",
      "\tnumber of tweets in hashtag: 1213813\n",
      "\tnumber of hours in hashtag: 585.7836111111111\n",
      "\taverage tweets per hour: 2072.11840170408\n",
      "\t----------\n",
      "\taverage followers per tweeter: 3652.431497619542\n",
      "\t----------\n",
      "\taverage retweets per tweet: 2.3911895819207736\n",
      "\t----------\n",
      "\n",
      "1421223187\n",
      "2015-01-14 00:13:07\n"
     ]
    },
    {
     "data": {
      "image/png": "[encoded data removed]",
      "text/plain": [
       "<Figure size 432x288 with 1 Axes>"
      ]
     },
     "metadata": {
      "needs_background": "light"
     },
     "output_type": "display_data"
    }
   ],
   "source": [
    "only_plot = ['superbowl', 'nfl']\n",
    "file_lengths = {\n",
    "    'superbowl': 1213813,\n",
    "    'nfl': 233022\n",
    "}\n",
    "\n",
    "# iterate over all hashtag files \n",
    "for root, dirs, files in os.walk(training_dir, topdown=False):\n",
    "    for file in files:\n",
    "        filename = os.path.splitext(file)[0].replace('tweets_#', '')\n",
    "        print('Parsing {}...'.format(filename))\n",
    "        \n",
    "        # only extracting specific features from the tweet json objects\n",
    "        citation_dates = []\n",
    "        followers = []\n",
    "        authors = []\n",
    "        retweets = []\n",
    "        \n",
    "        # open the file and read all lines:\n",
    "        with open(os.path.join(root, file), \"r\", encoding=\"utf-8\") as hashtag:\n",
    "            # read line-by-line\n",
    "            for line in hashtag:\n",
    "                json_obj = json.loads(line)\n",
    "                \n",
    "                # get citation date\n",
    "                citation_date = json_obj['citation_date']\n",
    "                citation_dates.append(citation_date)\n",
    "                \n",
    "                if json_obj['tweet']['user']['id'] not in authors:\n",
    "                    # get number of authors\n",
    "                    authors.append(json_obj['tweet']['user']['id'])\n",
    "                    \n",
    "                    # get number of followers for the author\n",
    "                    followers.append(json_obj['author']['followers'])\n",
    "                \n",
    "                # get retweets\n",
    "                retweet_total = json_obj['metrics']['citations']['total']\n",
    "                retweets.append(retweet_total)\n",
    "        \n",
    "        # processing citation feature\n",
    "        print('\\t'+'-'*10)\n",
    "        citation_dates = np.array(citation_dates)\n",
    "        print('\\tnumber of tweets in hashtag: {}'.format(len(citation_dates)))\n",
    "        \n",
    "        min_date = np.min(citation_dates)\n",
    "        max_date = np.max(citation_dates)\n",
    "        span_hours = (max_date - min_date)/3600\n",
    "        \n",
    "        print('\\tnumber of hours in hashtag: {}'.format(span_hours))\n",
    "        \n",
    "        tweets_per_hour = len(citation_dates) / span_hours\n",
    "        print('\\taverage tweets per hour: {}'.format(tweets_per_hour))\n",
    "        \n",
    "        # processing followers feature\n",
    "        print('\\t'+'-'*10)\n",
    "        follower_avg = sum(followers)/len(authors)\n",
    "        print('\\taverage followers per tweeter: {}'.format(follower_avg))\n",
    "        \n",
    "        # processing retweets feature\n",
    "        print('\\t'+'-'*10)\n",
    "        retweet_avg = sum(retweets)/len(citation_dates)\n",
    "        print('\\taverage retweets per tweet: {}'.format(retweet_avg))\n",
    "        \n",
    "        print('\\t'+'-'*10)\n",
    "        print('')\n",
    "        \n",
    "        if filename in only_plot:\n",
    "            citation_dates = np.array(citation_dates)\n",
    "            min_date = np.min(citation_dates)\n",
    "            max_date = np.max(citation_dates)\n",
    "            print(min_date)\n",
    "            print(datetime.fromtimestamp(min_date))\n",
    "\n",
    "            hour_slots = int((max_date - min_date) / 3600 + 1)\n",
    "            slots = np.zeros(hour_slots)\n",
    "            for date in citation_dates:\n",
    "                slots[int((date-min_date)/3600)] += 1 # add the tweet to the appropriate timeslot\n",
    "                \n",
    "            plt.bar(np.arange(len(slots)), slots)\n",
    "            plt.xlabel('hours')\n",
    "            plt.ylabel('number of tweets')\n",
    "            plt.title('hours vs number of tweets for '+ filename)\n",
    "            plt.show()"
   ]
  },
  {
   "cell_type": "code",
   "execution_count": null,
   "metadata": {},
   "outputs": [],
   "source": []
  }
 ],
 "metadata": {
  "kernelspec": {
   "display_name": "Python 3",
   "language": "python",
   "name": "python3"
  },
  "language_info": {
   "codemirror_mode": {
    "name": "ipython",
    "version": 3
   },
   "file_extension": ".py",
   "mimetype": "text/x-python",
   "name": "python",
   "nbconvert_exporter": "python",
   "pygments_lexer": "ipython3",
   "version": "3.7.2"
  }
 },
 "nbformat": 4,
 "nbformat_minor": 2
}
